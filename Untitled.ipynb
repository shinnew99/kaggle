{
 "cells": [
  {
   "cell_type": "code",
   "execution_count": 1,
   "id": "a3975e79",
   "metadata": {},
   "outputs": [
    {
     "data": {
      "text/plain": [
       "'/aiffel/aiffel/workplace/Aiffel_Quest/kaggle'"
      ]
     },
     "execution_count": 1,
     "metadata": {},
     "output_type": "execute_result"
    }
   ],
   "source": [
    "import os \n",
    "\n",
    "os.getcwd()"
   ]
  },
  {
   "cell_type": "code",
   "execution_count": 2,
   "id": "cd1bef8f",
   "metadata": {},
   "outputs": [
    {
     "name": "stdout",
     "output_type": "stream",
     "text": [
      "mkdir: cannot create directory ‘/aiffel/.kaggle’: File exists\r\n"
     ]
    }
   ],
   "source": [
    "!mkdir ~/.kaggle"
   ]
  },
  {
   "cell_type": "code",
   "execution_count": 3,
   "id": "6105e8d3",
   "metadata": {},
   "outputs": [],
   "source": [
    "!cp kaggle.json ~/.kaggle/\n",
    "\n",
    "# !cp kaggle.json ../kaggle"
   ]
  },
  {
   "cell_type": "code",
   "execution_count": 4,
   "id": "d49e75eb",
   "metadata": {},
   "outputs": [],
   "source": [
    "!chmod 600 ~/.kaggle/kaggle.json"
   ]
  },
  {
   "cell_type": "code",
   "execution_count": 5,
   "id": "cde4b9ec",
   "metadata": {},
   "outputs": [],
   "source": [
    "# !cat ~/.kaggle/kaggle.json"
   ]
  },
  {
   "cell_type": "code",
   "execution_count": 9,
   "id": "625c4482",
   "metadata": {},
   "outputs": [
    {
     "name": "stdout",
     "output_type": "stream",
     "text": [
      "\n",
      "Usage:   \n",
      "  /opt/conda/bin/python -m pip install [options] <requirement specifier> [package-index-options] ...\n",
      "  /opt/conda/bin/python -m pip install [options] -r <requirements file> [package-index-options] ...\n",
      "  /opt/conda/bin/python -m pip install [options] [-e] <vcs project url> ...\n",
      "  /opt/conda/bin/python -m pip install [options] [-e] <local project path> ...\n",
      "  /opt/conda/bin/python -m pip install [options] <archive url/path> ...\n",
      "\n",
      "no such option: --yoojinshin9918@gmail.com\n",
      "Note: you may need to restart the kernel to use updated packages.\n"
     ]
    }
   ],
   "source": [
    "pip install kaggle --yoojinshin9918@gmail.com"
   ]
  },
  {
   "cell_type": "code",
   "execution_count": 10,
   "id": "f9b17496",
   "metadata": {},
   "outputs": [
    {
     "name": "stdout",
     "output_type": "stream",
     "text": [
      "Downloading dogs-vs-cats.zip to /aiffel/aiffel/workplace/Aiffel_Quest/kaggle\n",
      "100%|████████████████████████████████████████▉| 810M/812M [00:03<00:00, 221MB/s]\n",
      "100%|█████████████████████████████████████████| 812M/812M [00:03<00:00, 214MB/s]\n"
     ]
    }
   ],
   "source": [
    "# !kaggle competitions download -c dogs-vs-cats\n",
    "!kaggle competitions download -c dogs-vs-cats "
   ]
  },
  {
   "cell_type": "code",
   "execution_count": 11,
   "id": "92331e0d",
   "metadata": {},
   "outputs": [
    {
     "name": "stdout",
     "output_type": "stream",
     "text": [
      "cp: 'dogs-vs-cats.zip' and '../kaggle/dogs-vs-cats.zip' are the same file\r\n"
     ]
    }
   ],
   "source": [
    "# 내 디렉토리에 맞게 복사해줌\n",
    "!cp dogs-vs-cats.zip ../kaggle"
   ]
  },
  {
   "cell_type": "code",
   "execution_count": 12,
   "id": "dd9b0dd9",
   "metadata": {},
   "outputs": [],
   "source": [
    "# !unzip -qq dogs-vs-cats.zip"
   ]
  },
  {
   "cell_type": "code",
   "execution_count": 13,
   "id": "bf16516b",
   "metadata": {},
   "outputs": [],
   "source": [
    "!unzip -qq train.zip"
   ]
  },
  {
   "cell_type": "code",
   "execution_count": 14,
   "id": "34784d31",
   "metadata": {},
   "outputs": [],
   "source": [
    "!unzip -qq test1.zip"
   ]
  }
 ],
 "metadata": {
  "kernelspec": {
   "display_name": "Python 3 (ipykernel)",
   "language": "python",
   "name": "python3"
  },
  "language_info": {
   "codemirror_mode": {
    "name": "ipython",
    "version": 3
   },
   "file_extension": ".py",
   "mimetype": "text/x-python",
   "name": "python",
   "nbconvert_exporter": "python",
   "pygments_lexer": "ipython3",
   "version": "3.9.7"
  }
 },
 "nbformat": 4,
 "nbformat_minor": 5
}
